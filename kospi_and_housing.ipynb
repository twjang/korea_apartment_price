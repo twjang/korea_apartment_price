{
 "cells": [
  {
   "cell_type": "code",
   "execution_count": 1,
   "id": "7f1ba957",
   "metadata": {},
   "outputs": [],
   "source": [
    "from pandas_datareader import data\n",
    "import datetime\n",
    "from matplotlib import pyplot as plt\n",
    "import matplotlib.lines as mlines\n",
    "\n",
    "import korea_apartment_price"
   ]
  },
  {
   "cell_type": "code",
   "execution_count": 2,
   "id": "884bcee9",
   "metadata": {},
   "outputs": [
    {
     "data": {
      "text/plain": [
       "[{'address': '서울특별시 서대문구 북아현동', 'lawaddrcode': '1141011000', 'name': '신촌푸르지오'}]"
      ]
     },
     "execution_count": 2,
     "metadata": {},
     "output_type": "execute_result"
    }
   ],
   "source": [
    "apts = korea_apartment_price.shortcuts.search('서대문구', '신촌푸르지오')\n",
    "#apts = [e for e in apts if e['name'].startswith('현대') and e['name'].find('빌라트') == -1 and e['name'].find('차') > -1]\n",
    "#apts = [e for e in apts if int(e['name'].replace('현대', '').split('차')[0]) in [6, 7] ]\n",
    "apts"
   ]
  },
  {
   "cell_type": "code",
   "execution_count": 3,
   "id": "2543ea54",
   "metadata": {},
   "outputs": [
    {
     "data": {
      "text/plain": [
       "{10, 13, 14, 15, 18, 25, 33}"
      ]
     },
     "execution_count": 3,
     "metadata": {},
     "output_type": "execute_result"
    }
   ],
   "source": [
    "sizes = set(korea_apartment_price.db.query_trades(apt_ids=apts, filters=[korea_apartment_price.db.pick_size]))\n",
    "sizes"
   ]
  },
  {
   "cell_type": "code",
   "execution_count": 4,
   "metadata": {},
   "outputs": [
    {
     "data": {
      "text/plain": [
       "[{'price': 105000.0,\n",
       "  'size': 10,\n",
       "  'confirmed_at': datetime.date(2022, 2, 28),\n",
       "  'floor': '2층',\n",
       "  'apt_dong': '203'},\n",
       " {'price': 160000.0,\n",
       "  'size': 25,\n",
       "  'confirmed_at': datetime.date(2022, 3, 5),\n",
       "  'floor': '2층',\n",
       "  'apt_dong': '204'},\n",
       " {'price': 160000.0,\n",
       "  'size': 25,\n",
       "  'confirmed_at': datetime.date(2022, 3, 4),\n",
       "  'floor': '2층',\n",
       "  'apt_dong': '제204'},\n",
       " {'price': 163000.0,\n",
       "  'size': 25,\n",
       "  'confirmed_at': datetime.date(2022, 3, 5),\n",
       "  'floor': '저층',\n",
       "  'apt_dong': '301'},\n",
       " {'price': 163000.0,\n",
       "  'size': 25,\n",
       "  'confirmed_at': datetime.date(2022, 2, 26),\n",
       "  'floor': '저층',\n",
       "  'apt_dong': '206'},\n",
       " {'price': 165000.0,\n",
       "  'size': 25,\n",
       "  'confirmed_at': datetime.date(2022, 3, 5),\n",
       "  'floor': '12층',\n",
       "  'apt_dong': '1203'},\n",
       " {'price': 165000.0,\n",
       "  'size': 25,\n",
       "  'confirmed_at': datetime.date(2022, 3, 3),\n",
       "  'floor': '고층',\n",
       "  'apt_dong': '1503'},\n",
       " {'price': 165000.0,\n",
       "  'size': 25,\n",
       "  'confirmed_at': datetime.date(2022, 3, 2),\n",
       "  'floor': '고층',\n",
       "  'apt_dong': '1303'},\n",
       " {'price': 166000.0,\n",
       "  'size': 25,\n",
       "  'confirmed_at': datetime.date(2022, 3, 5),\n",
       "  'floor': '2층',\n",
       "  'apt_dong': '201'},\n",
       " {'price': 168000.0,\n",
       "  'size': 25,\n",
       "  'confirmed_at': datetime.date(2022, 3, 3),\n",
       "  'floor': '중간층',\n",
       "  'apt_dong': '803'},\n",
       " {'price': 168000.0,\n",
       "  'size': 25,\n",
       "  'confirmed_at': datetime.date(2022, 2, 25),\n",
       "  'floor': '8층',\n",
       "  'apt_dong': '제803'},\n",
       " {'price': 168000.0,\n",
       "  'size': 25,\n",
       "  'confirmed_at': datetime.date(2022, 2, 18),\n",
       "  'floor': '중간층',\n",
       "  'apt_dong': '703'},\n",
       " {'price': 170000.0,\n",
       "  'size': 25,\n",
       "  'confirmed_at': datetime.date(2022, 3, 5),\n",
       "  'floor': '고층',\n",
       "  'apt_dong': '1501'},\n",
       " {'price': 170000.0,\n",
       "  'size': 25,\n",
       "  'confirmed_at': datetime.date(2022, 3, 5),\n",
       "  'floor': '7층',\n",
       "  'apt_dong': '702'},\n",
       " {'price': 172000.0,\n",
       "  'size': 25,\n",
       "  'confirmed_at': datetime.date(2022, 3, 5),\n",
       "  'floor': '3층',\n",
       "  'apt_dong': '303'},\n",
       " {'price': 175000.0,\n",
       "  'size': 25,\n",
       "  'confirmed_at': datetime.date(2022, 2, 26),\n",
       "  'floor': '중간층',\n",
       "  'apt_dong': '701'}]"
      ]
     },
     "execution_count": 4,
     "metadata": {},
     "output_type": "execute_result"
    }
   ],
   "source": [
    "orderbook = korea_apartment_price.shortcuts.fetch_orderbook(apt_id=apts[0], sizes=list(sizes))\n",
    "orderbook"
   ]
  },
  {
   "cell_type": "code",
   "execution_count": 9,
   "metadata": {},
   "outputs": [],
   "source": [
    "start_year = 2016\n",
    "start_month = 1\n",
    "start_date = 1\n",
    "\n",
    "start_ymd = start_year * 10000 + start_month * 100 + start_date"
   ]
  },
  {
   "cell_type": "code",
   "execution_count": 10,
   "id": "1847d24c",
   "metadata": {},
   "outputs": [
    {
     "name": "stdout",
     "output_type": "stream",
     "text": [
      "2016-01-02\n"
     ]
    }
   ],
   "source": [
    "trades = korea_apartment_price.db.query_trades(apt_ids=apts, date_from=start_ymd)\n",
    "x1 = []\n",
    "y1 = []\n",
    "for e in trades:\n",
    "    size_diff = min([abs(s - e['size'] * 0.3) for s in sizes])\n",
    "    if size_diff > 1.0: continue\n",
    "    x1.append(datetime.date(year=int(e['year']), month=int(e['month']), day=int(e['date'])))\n",
    "    y1.append(int(e['price'] / int(e['size'] * 0.3)))\n",
    "print(x1[0])"
   ]
  },
  {
   "cell_type": "code",
   "execution_count": 11,
   "id": "e02e4301",
   "metadata": {},
   "outputs": [],
   "source": [
    "df = data.DataReader(\"^KS11\", \"yahoo\", datetime.datetime(start_year, start_month, start_date))\n",
    "x2 = [e.date() for e in df.index]\n",
    "y2 = df['Close'].to_list()"
   ]
  },
  {
   "cell_type": "code",
   "execution_count": 12,
   "id": "9a51919a",
   "metadata": {},
   "outputs": [
    {
     "data": {
      "image/png": "[encoded data removed]",
      "text/plain": [
       "<Figure size 432x288 with 1 Axes>"
      ]
     },
     "metadata": {
      "needs_background": "light"
     },
     "output_type": "display_data"
    }
   ],
   "source": [
    "coeff = y1[0] / y2[0]\n",
    "scaled_y2 = [v * coeff for v in y2]\n",
    "\n",
    "plt.figure()\n",
    "plt.scatter(x1, y1, s=2, color='red')\n",
    "plt.plot(x2, scaled_y2, linewidth=1)\n",
    "plt.show()"
   ]
  },
  {
   "cell_type": "code",
   "execution_count": 13,
   "metadata": {},
   "outputs": [
    {
     "data": {
      "image/png": "[encoded data removed]",
      "text/plain": [
       "<Figure size 432x288 with 1 Axes>"
      ]
     },
     "metadata": {
      "needs_background": "light"
     },
     "output_type": "display_data"
    }
   ],
   "source": [
    "plt.figure()\n",
    "plt.scatter(x1, y1, s=2, color='red')\n",
    "ax = plt.gca()\n",
    "\n",
    "now = datetime.datetime.now()\n",
    "started_at = datetime.date(start_year, start_month, start_date)\n",
    "for e in orderbook:\n",
    "  price = e['price'] / e['size'] \n",
    "  l1 = mlines.Line2D([e['confirmed_at'], started_at], [price, price], color=(0.0, 0, 0, 0.3), linewidth=0.5)\n",
    "  l2 = mlines.Line2D([e['confirmed_at'], now], [price, price], color=(1.0, 0, 0, 0.3), linewidth=0.5)\n",
    "  ax.add_line(l1)\n",
    "  ax.add_line(l2)\n",
    "plt.show()"
   ]
  }
 ],
 "metadata": {
  "interpreter": {
   "hash": "799c44995b6893a3198746e929695af97a5164f3207f34fc29cf6ff3bf46bd54"
  },
  "kernelspec": {
   "display_name": "Python 3.8.12 64-bit ('dl': conda)",
   "name": "python3"
  },
  "language_info": {
   "codemirror_mode": {
    "name": "ipython",
    "version": 3
   },
   "file_extension": ".py",
   "mimetype": "text/x-python",
   "name": "python",
   "nbconvert_exporter": "python",
   "pygments_lexer": "ipython3",
   "version": "3.8.12"
  }
 },
 "nbformat": 4,
 "nbformat_minor": 5
}
